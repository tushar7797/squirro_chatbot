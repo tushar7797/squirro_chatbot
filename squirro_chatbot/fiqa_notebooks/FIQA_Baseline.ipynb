{
 "cells": [
  {
   "cell_type": "code",
   "execution_count": 84,
   "id": "b02dee7b-a43d-4c11-b260-2d36e1a2dfb9",
   "metadata": {},
   "outputs": [],
   "source": [
    "from elasticsearch import Elasticsearch\n",
    "import ir_datasets\n",
    "import re\n",
    "from collections import Counter\n",
    "import json\n",
    "\n",
    "from ir_datasets.formats.base import GenericQuery, GenericDoc, GenericQrel\n",
    "import urllib3\n",
    "urllib3.disable_warnings(urllib3.exceptions.InsecureRequestWarning)"
   ]
  },
  {
   "cell_type": "code",
   "execution_count": null,
   "id": "12aeda80-38a4-4caa-b0c4-da752d391927",
   "metadata": {},
   "outputs": [],
   "source": []
  },
  {
   "cell_type": "code",
   "execution_count": 7,
   "id": "85418d61-b58c-4e7f-b83e-1f1ae444b358",
   "metadata": {},
   "outputs": [],
   "source": [
    "es = Elasticsearch(\n",
    "    [\"https://localhost:9200\"],\n",
    "    http_auth=('elastic', '<your password>'),\n",
    "    use_ssl=True,\n",
    "    verify_certs=False # Only set this to False for local testing\n",
    ")"
   ]
  },
  {
   "cell_type": "markdown",
   "id": "21744a87-a169-4bd3-95ed-58f57145f578",
   "metadata": {},
   "source": [
    "### Load the Dataset"
   ]
  },
  {
   "cell_type": "code",
   "execution_count": 10,
   "id": "6bcae65d-d8f3-4c99-ac15-a96b24bff63f",
   "metadata": {},
   "outputs": [],
   "source": [
    "dataset = ir_datasets.load(\"beir/fiqa\")"
   ]
  },
  {
   "cell_type": "code",
   "execution_count": 20,
   "id": "ca0986db-7cd6-40ae-a0a4-69e5f91ed4e0",
   "metadata": {},
   "outputs": [],
   "source": [
    "dataset = ir_datasets.load(\"beir/fiqa/dev\")\n",
    "\n",
    "\n",
    "# List of all the documents in the Dataset -> doc_id: Document ID, text: Document content\n",
    "docs = list(dataset.docs_iter())\n",
    "# List of all test queries -> query_id: Query ID, text: Query content\n",
    "queries = list(dataset.queries_iter())\n",
    "# List of all related queries and documents: query_id: Query ID, doc_id: Document ID, relevance and iteration not important for analysis\n",
    "qrels= list(dataset.qrels_iter())"
   ]
  },
  {
   "cell_type": "code",
   "execution_count": 22,
   "id": "5f487adc-8f5a-4cc3-b5d4-eb4016b744a6",
   "metadata": {},
   "outputs": [
    {
     "data": {
      "text/plain": [
       "ir_datasets.formats.base.GenericQuery"
      ]
     },
     "execution_count": 22,
     "metadata": {},
     "output_type": "execute_result"
    }
   ],
   "source": [
    "type(queries[0])"
   ]
  },
  {
   "cell_type": "markdown",
   "id": "4677a708-d7f2-4173-a10c-bf5109149165",
   "metadata": {},
   "source": [
    "### Load all the Documents in the elastic search Index"
   ]
  },
  {
   "cell_type": "code",
   "execution_count": null,
   "id": "2f3fc5e7-798d-4055-93ab-50776cab0428",
   "metadata": {},
   "outputs": [],
   "source": [
    "# Create a new elastic search index\n",
    "\n",
    "# es.indices.create(index = \"fiqa\")"
   ]
  },
  {
   "cell_type": "code",
   "execution_count": null,
   "id": "3cf47c2e-7d50-4da5-a617-d7447213abb7",
   "metadata": {},
   "outputs": [],
   "source": [
    "# Add all the documents to the fiqa index. This takes a bit of time\n",
    "\n",
    "# for doc in dataset.docs_iter():\n",
    "#     res = es.index(index='fiqa', id=doc.doc_id, body={\"text\": doc})"
   ]
  },
  {
   "cell_type": "markdown",
   "id": "ad2033f7-412a-41de-92f1-ffb656865aca",
   "metadata": {},
   "source": [
    "### Baseline Performance of Default Elastic Search"
   ]
  },
  {
   "cell_type": "markdown",
   "id": "a7935ef1-f884-4488-a21e-5c944e00ec18",
   "metadata": {},
   "source": [
    "We make use of the Rank Eval API in Elastic Search to benchmark the performance of our Information Retrieval system. We consider the Mean Reciprocal Rank @ 100 for benchmarking the performance of our IR system. For more information refer to [Rank Eval Documentation](https://www.elastic.co/guide/en/elasticsearch/reference/current/search-rank-eval.html) and [Mean Reciprocal Rank](https://en.wikipedia.org/wiki/Mean_reciprocal_rank)"
   ]
  },
  {
   "cell_type": "code",
   "execution_count": 24,
   "id": "6c862db3-3e25-4755-93b0-839e90a4b92c",
   "metadata": {},
   "outputs": [],
   "source": [
    "def return_query_mapping(query_list: list[GenericQuery]) -> dict[str, str]:\n",
    "    \"\"\"Returns mapping between query id and query text\"\"\"\n",
    "    return {q.query_id: q.text for q in query_list}"
   ]
  },
  {
   "cell_type": "code",
   "execution_count": 91,
   "id": "d7d445ec-e011-4c53-9f32-d590e8fda1e2",
   "metadata": {},
   "outputs": [],
   "source": [
    "def create_evaluation_body(query_map: dict[str, str], qrel_map: dict[str, list[str]], index_name = \"fiqa\"):\n",
    "    \"\"\"Creates Evaluation Body in the format required by rank eval API\n",
    "    \n",
    "    \n",
    "    Args:\n",
    "        query_map: mapping between query ID and query content\n",
    "        qrel_map: Mapping between query ID and list of tuples\n",
    "            representing relevant documents. (doc id, doc relevance)\n",
    "    \"\"\"\n",
    "    \n",
    "    evaluation_body = {\n",
    "        \"requests\": [],\n",
    "        \"metric\": {\n",
    "            \"mean_reciprocal_rank\": {\n",
    "                \"k\": 100,\n",
    "                \"relevant_rating_threshold\": 1\n",
    "            }\n",
    "        }\n",
    "    }\n",
    "    \n",
    "    for query_id, query_text in query_map.items():\n",
    "        relevant_docs_list = qrel_map.get(query_id, [])\n",
    "        ratings = [{\"_index\": index_name, \"_id\": doc_id, \"rating\": rating} for doc_id, rating in relevant_docs_list]\n",
    "    \n",
    "        evaluation_body[\"requests\"].append({\n",
    "            \"id\": query_id,\n",
    "            \"request\": {\"query\": {\"match\": {\"text\": query_text}}},\n",
    "            \"ratings\": ratings\n",
    "        })\n",
    "\n",
    "    \n",
    "    return evaluation_body"
   ]
  },
  {
   "cell_type": "code",
   "execution_count": null,
   "id": "5bbbe346-ca36-4ea9-b2f1-7154bb478e31",
   "metadata": {},
   "outputs": [],
   "source": []
  },
  {
   "cell_type": "code",
   "execution_count": 54,
   "id": "d929a4bc-c182-4852-a619-08d0b0071737",
   "metadata": {},
   "outputs": [],
   "source": [
    "query_map = return_query_mapping(queries)"
   ]
  },
  {
   "cell_type": "code",
   "execution_count": 55,
   "id": "58d3cc4c-2655-46a2-bc68-78b57cc40664",
   "metadata": {},
   "outputs": [],
   "source": [
    "qrels_mapping = {}\n",
    "\n",
    "for qrel in qrels:\n",
    "\n",
    "    if qrel.query_id in qrels_mapping:\n",
    "        qrels_mapping[qrel.query_id].append((qrel.doc_id, qrel.relevance))\n",
    "    else:\n",
    "        qrels_mapping[qrel.query_id] = [(qrel.doc_id, qrel.relevance)]"
   ]
  },
  {
   "cell_type": "code",
   "execution_count": 56,
   "id": "30425ce5-a0b9-4bd9-990a-8fe88ca3e5fb",
   "metadata": {},
   "outputs": [],
   "source": [
    "eval_body = create_evaluation_body(query_map, qrels_mapping)"
   ]
  },
  {
   "cell_type": "code",
   "execution_count": 57,
   "id": "9020d895-1d30-4197-b962-cfa324250e4c",
   "metadata": {},
   "outputs": [],
   "source": [
    "response = es.rank_eval(index = \"fiqa\", body=eval_body, ignore_unavailable=True)"
   ]
  },
  {
   "cell_type": "code",
   "execution_count": 58,
   "id": "17932381-f390-43c9-840e-e734027ea324",
   "metadata": {},
   "outputs": [
    {
     "data": {
      "text/plain": [
       "0.2946920634920635"
      ]
     },
     "execution_count": 58,
     "metadata": {},
     "output_type": "execute_result"
    }
   ],
   "source": [
    "response[\"metric_score\"]"
   ]
  },
  {
   "cell_type": "markdown",
   "id": "2cd865d7-6288-4957-91d7-974f32020fde",
   "metadata": {},
   "source": [
    "### Strategy for Relevance Tuning"
   ]
  },
  {
   "cell_type": "markdown",
   "id": "2e19bb24-6736-480e-b3db-f319da5128d4",
   "metadata": {},
   "source": [
    "To improve the relevance tuning of our Information Retrieval Systems we use the following standard techniques: Stemming, Lowercasing the characters and removing Stop words from the Index. The implementation can be found here: \"squirro_chatbot/elastic_search_configs/analyser_config.json\""
   ]
  },
  {
   "cell_type": "code",
   "execution_count": null,
   "id": "56b99a65-e1e0-464a-8a5d-9165bf6c3fdc",
   "metadata": {},
   "outputs": [],
   "source": []
  },
  {
   "cell_type": "markdown",
   "id": "182adcd8-2a37-4cd3-8659-ab71d371b65a",
   "metadata": {},
   "source": [
    "### Figure out Optimal Stop words"
   ]
  },
  {
   "cell_type": "markdown",
   "id": "70380630-1bd1-4d71-a17d-fe12cfeb21c9",
   "metadata": {},
   "source": [
    "We look at the most common words appearing in these queries and removing them from the index so that the documents with higher occurances of these words do not get retrieved often"
   ]
  },
  {
   "cell_type": "code",
   "execution_count": 77,
   "id": "4f41af96-016e-48e2-9a96-ef9d1a5bf03f",
   "metadata": {},
   "outputs": [
    {
     "name": "stdout",
     "output_type": "stream",
     "text": [
      "Most common words: [('a', 205), ('to', 178), ('the', 151), ('in', 104), ('is', 101), ('how', 101), ('of', 98), ('what', 98), ('i', 97), ('for', 93), ('stock', 64), ('and', 60), ('can', 58), ('do', 57), ('on', 50), ('my', 48), ('are', 42), ('from', 39), ('it', 38), ('with', 36), ('or', 35), ('an', 34), ('tax', 34), ('does', 34), ('why', 33), ('s', 32), ('money', 30), ('if', 30), ('price', 29), ('when', 28), ('company', 26), ('interest', 24), ('be', 24), ('that', 23), ('credit', 23)]\n"
     ]
    }
   ],
   "source": [
    "queries_text = [q.text for q in queries]\n",
    "\n",
    "# Example list of questions\n",
    "questions = queries_text\n",
    "\n",
    "# Tokenize and normalize the text\n",
    "words = [re.findall(r'\\b\\w+\\b', question.lower()) for question in questions]\n",
    "\n",
    "# Flatten the list of lists into a single list of words\n",
    "flat_words = [word for sublist in words for word in sublist]\n",
    "\n",
    "# Optional: Define a set of stop words\n",
    "# stop_words = set([\"is\", \"are\", \"you\", \"your\", \"what\", \"how\", \"do\", \"this\"])\n",
    "stop_words = set()\n",
    "\n",
    "# Filter out stop words\n",
    "filtered_words = [word for word in flat_words if word not in stop_words]\n",
    "\n",
    "# Count occurrences\n",
    "word_counts = Counter(filtered_words)\n",
    "\n",
    "# Display the 5 most common words\n",
    "most_common_words = word_counts.most_common(5)\n",
    "\n",
    "print(\"Most common words:\", word_counts.most_common(35))"
   ]
  },
  {
   "cell_type": "code",
   "execution_count": null,
   "id": "6ef3e56d-b654-4c55-bd44-92f81a8a2a4d",
   "metadata": {},
   "outputs": [],
   "source": []
  },
  {
   "cell_type": "markdown",
   "id": "5b145515-1494-466b-b2d7-0e672edd78ae",
   "metadata": {},
   "source": [
    "### Reindex Elastic Search"
   ]
  },
  {
   "cell_type": "code",
   "execution_count": 86,
   "id": "35c737ff-834d-4719-b33d-2525246d25d0",
   "metadata": {},
   "outputs": [],
   "source": [
    "# Load new elastic search config\n",
    "# Please \n",
    "with open('/Users/tushargoel/Desktop/code/squirro/squirro_chatbot/squirro_chatbot/elastic_search_configs/analyser_config.json') as f:\n",
    "    config = json.load(f)"
   ]
  },
  {
   "cell_type": "code",
   "execution_count": null,
   "id": "7d8f13f6-91ec-4ab1-9756-a9efcbcf2aa0",
   "metadata": {},
   "outputs": [],
   "source": [
    "# new_index_name = 'fiqa_analyser'\n",
    "\n",
    "# # Create the new index with settings and mappings from config.json\n",
    "# es.indices.create(index=new_index_name, body=config)"
   ]
  },
  {
   "cell_type": "code",
   "execution_count": null,
   "id": "bfdd2a79-592e-4af8-a3bf-43ea157adc7a",
   "metadata": {},
   "outputs": [],
   "source": [
    "# reindex_body = {\n",
    "#   \"source\": {\n",
    "#     \"index\": \"fiqa\"\n",
    "#   },\n",
    "#   \"dest\": {\n",
    "#     \"index\": new_index_name\n",
    "#   }\n",
    "# }\n",
    "\n",
    "# es.reindex(body=reindex_body, wait_for_completion=True)"
   ]
  },
  {
   "cell_type": "code",
   "execution_count": null,
   "id": "c5454684-3942-49d9-be35-c57c36ed53ef",
   "metadata": {},
   "outputs": [],
   "source": []
  },
  {
   "cell_type": "markdown",
   "id": "44b0c4cd-c4cd-4b5e-9b00-caf689011765",
   "metadata": {},
   "source": [
    "### Results of Reindexed Elastic Search"
   ]
  },
  {
   "cell_type": "code",
   "execution_count": 92,
   "id": "b47cf5b6-c6e0-452a-ba5a-6940c7cf91d3",
   "metadata": {},
   "outputs": [],
   "source": [
    "eval_body = create_evaluation_body(query_map, qrels_mapping, index_name=\"fiqa_analyser\")"
   ]
  },
  {
   "cell_type": "code",
   "execution_count": 93,
   "id": "b75bba35-0054-47f7-ab0e-bb86d779399f",
   "metadata": {},
   "outputs": [],
   "source": [
    "response = es.rank_eval(index = \"fiqa_analyser\", body=eval_body, ignore_unavailable=True)"
   ]
  },
  {
   "cell_type": "code",
   "execution_count": 94,
   "id": "233e31da-ec28-439a-a687-c3a18409f4b4",
   "metadata": {},
   "outputs": [
    {
     "name": "stdout",
     "output_type": "stream",
     "text": [
      "0.33321182740227345\n"
     ]
    }
   ],
   "source": [
    "print(response[\"metric_score\"])"
   ]
  },
  {
   "cell_type": "code",
   "execution_count": null,
   "id": "c17a6ddf-a7a3-4213-85f5-c4249621ac1b",
   "metadata": {},
   "outputs": [],
   "source": []
  }
 ],
 "metadata": {
  "kernelspec": {
   "display_name": "Python3 (tushar)",
   "language": "python",
   "name": "tushar"
  },
  "language_info": {
   "codemirror_mode": {
    "name": "ipython",
    "version": 3
   },
   "file_extension": ".py",
   "mimetype": "text/x-python",
   "name": "python",
   "nbconvert_exporter": "python",
   "pygments_lexer": "ipython3",
   "version": "3.12.2"
  }
 },
 "nbformat": 4,
 "nbformat_minor": 5
}
